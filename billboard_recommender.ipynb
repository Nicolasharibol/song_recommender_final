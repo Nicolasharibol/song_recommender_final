{
 "cells": [
  {
   "cell_type": "code",
   "execution_count": 2,
   "id": "01871cf2-93fc-4ed0-8ec4-8ee21ee17505",
   "metadata": {},
   "outputs": [],
   "source": [
    "import numpy as np\n",
    "import pandas as pd\n",
    "import config\n",
    "import spotipy\n",
    "from IPython.display import IFrame\n",
    "from spotipy.oauth2 import SpotifyClientCredentials"
   ]
  },
  {
   "cell_type": "code",
   "execution_count": 4,
   "id": "f44e1ff7-de1e-4f59-84ca-0026fcadffbd",
   "metadata": {},
   "outputs": [
    {
     "data": {
      "text/html": [
       "<div>\n",
       "<style scoped>\n",
       "    .dataframe tbody tr th:only-of-type {\n",
       "        vertical-align: middle;\n",
       "    }\n",
       "\n",
       "    .dataframe tbody tr th {\n",
       "        vertical-align: top;\n",
       "    }\n",
       "\n",
       "    .dataframe thead th {\n",
       "        text-align: right;\n",
       "    }\n",
       "</style>\n",
       "<table border=\"1\" class=\"dataframe\">\n",
       "  <thead>\n",
       "    <tr style=\"text-align: right;\">\n",
       "      <th></th>\n",
       "      <th>artist</th>\n",
       "      <th>song</th>\n",
       "    </tr>\n",
       "  </thead>\n",
       "  <tbody>\n",
       "    <tr>\n",
       "      <th>0</th>\n",
       "      <td>Kendrick Lamar &amp; SZA</td>\n",
       "      <td>Luther</td>\n",
       "    </tr>\n",
       "    <tr>\n",
       "      <th>1</th>\n",
       "      <td>Lady Gaga &amp; Bruno Mars</td>\n",
       "      <td>Die With A Smile</td>\n",
       "    </tr>\n",
       "    <tr>\n",
       "      <th>2</th>\n",
       "      <td>Kendrick Lamar</td>\n",
       "      <td>Not Like Us</td>\n",
       "    </tr>\n",
       "    <tr>\n",
       "      <th>3</th>\n",
       "      <td>Kendrick Lamar Featuring Lefty Gunplay</td>\n",
       "      <td>TV Off</td>\n",
       "    </tr>\n",
       "    <tr>\n",
       "      <th>4</th>\n",
       "      <td>Shaboozey</td>\n",
       "      <td>A Bar Song (Tipsy)</td>\n",
       "    </tr>\n",
       "    <tr>\n",
       "      <th>...</th>\n",
       "      <td>...</td>\n",
       "      <td>...</td>\n",
       "    </tr>\n",
       "    <tr>\n",
       "      <th>95</th>\n",
       "      <td>LISA Featuring Doja Cat &amp; RAYE</td>\n",
       "      <td>Born Again</td>\n",
       "    </tr>\n",
       "    <tr>\n",
       "      <th>96</th>\n",
       "      <td>Giveon</td>\n",
       "      <td>Twenties</td>\n",
       "    </tr>\n",
       "    <tr>\n",
       "      <th>97</th>\n",
       "      <td>PARTYNEXTDOOR</td>\n",
       "      <td>Deeper</td>\n",
       "    </tr>\n",
       "    <tr>\n",
       "      <th>98</th>\n",
       "      <td>Bailey Zimmerman</td>\n",
       "      <td>Holy Smokes</td>\n",
       "    </tr>\n",
       "    <tr>\n",
       "      <th>99</th>\n",
       "      <td>Gabito Ballesteros &amp; Tito Double P</td>\n",
       "      <td>7 Dias</td>\n",
       "    </tr>\n",
       "  </tbody>\n",
       "</table>\n",
       "<p>100 rows × 2 columns</p>\n",
       "</div>"
      ],
      "text/plain": [
       "                                    artist                song\n",
       "0                     Kendrick Lamar & SZA              Luther\n",
       "1                   Lady Gaga & Bruno Mars    Die With A Smile\n",
       "2                           Kendrick Lamar         Not Like Us\n",
       "3   Kendrick Lamar Featuring Lefty Gunplay              TV Off\n",
       "4                                Shaboozey  A Bar Song (Tipsy)\n",
       "..                                     ...                 ...\n",
       "95          LISA Featuring Doja Cat & RAYE          Born Again\n",
       "96                                  Giveon            Twenties\n",
       "97                           PARTYNEXTDOOR              Deeper\n",
       "98                        Bailey Zimmerman         Holy Smokes\n",
       "99      Gabito Ballesteros & Tito Double P              7 Dias\n",
       "\n",
       "[100 rows x 2 columns]"
      ]
     },
     "execution_count": 4,
     "metadata": {},
     "output_type": "execute_result"
    }
   ],
   "source": [
    "df= pd.read_csv (\"/Users/admin/Downloads/project/project_week_11/song_recommender_final /billboard_100.csv\")\n",
    "df"
   ]
  },
  {
   "cell_type": "code",
   "execution_count": 5,
   "id": "7e28a1de-2568-4579-b15b-becf300ddb60",
   "metadata": {},
   "outputs": [],
   "source": [
    "sp = spotipy.Spotify(auth_manager=SpotifyClientCredentials(client_id=config.client_id, client_secret=config.client_secret))"
   ]
  },
  {
   "cell_type": "code",
   "execution_count": 6,
   "id": "5d83515e-1d9c-46d2-b0ec-db9627ea1c19",
   "metadata": {},
   "outputs": [
    {
     "name": "stdin",
     "output_type": "stream",
     "text": [
      "Enter a music type: High Energy, Chill Vibes, Rock, Trending Now: trending now\n"
     ]
    },
    {
     "name": "stdout",
     "output_type": "stream",
     "text": [
      "Check out this trending song: \"EOO\" by Bad Bunny\n"
     ]
    },
    {
     "data": {
      "text/html": [
       "\n",
       "        <iframe\n",
       "            width=\"320\"\n",
       "            height=\"80\"\n",
       "            src=\"https://open.spotify.com/embed/track/6J5kc12BW5HuP3d7C3vvx8?frameborder=0&allowtransparency=true&allow=encrypted-media\"\n",
       "            frameborder=\"0\"\n",
       "            allowfullscreen\n",
       "            \n",
       "        ></iframe>\n",
       "        "
      ],
      "text/plain": [
       "<IPython.lib.display.IFrame at 0x10b6d11f0>"
      ]
     },
     "metadata": {},
     "output_type": "display_data"
    }
   ],
   "source": [
    "def get_user_preference(df):\n",
    "    return input(\"Enter a music type: High Energy, Chill Vibes, Rock, Trending Now:\").strip().lower()\n",
    "\n",
    "def recommend_song(preference):\n",
    "    if preference == \"trending now\":\n",
    "        song = df.sample(n=1).iloc[0]\n",
    "        print(f\"Check out this trending song: \\\"{song['song']}\\\" by {song['artist']}\")\n",
    "        \n",
    "        # Retrieve and play track from Spotify\n",
    "        query = f\"track:{song['song']} artist:{song['artist']}\"\n",
    "        results = sp.search(q=query, type='track', limit=1)\n",
    "        if results['tracks']['items']:\n",
    "            track_id = results['tracks']['items'][0]['id']\n",
    "            display(IFrame(src=f\"https://open.spotify.com/embed/track/{track_id}\",\n",
    "                   width=\"320\", height=\"80\", frameborder=\"0\",\n",
    "                   allowtransparency=\"true\", allow=\"encrypted-media\"))\n",
    "        else:\n",
    "            print(\"Could not find the track on Spotify.\")\n",
    "    else:\n",
    "        print(f\"You selected '{preference}'. Stay tuned for recommendations in this category!\")\n",
    "\n",
    "# Execution\n",
    "recommend_song(get_user_preference(df))"
   ]
  }
 ],
 "metadata": {
  "kernelspec": {
   "display_name": "Python 3 (ipykernel)",
   "language": "python",
   "name": "python3"
  },
  "language_info": {
   "codemirror_mode": {
    "name": "ipython",
    "version": 3
   },
   "file_extension": ".py",
   "mimetype": "text/x-python",
   "name": "python",
   "nbconvert_exporter": "python",
   "pygments_lexer": "ipython3",
   "version": "3.12.7"
  }
 },
 "nbformat": 4,
 "nbformat_minor": 5
}
